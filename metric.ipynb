{
 "cells": [
  {
   "cell_type": "code",
   "execution_count": 1,
   "metadata": {},
   "outputs": [
    {
     "name": "stderr",
     "output_type": "stream",
     "text": [
      "/home/jungseoik/miniconda3/envs/vlm/lib/python3.11/site-packages/tqdm/auto.py:21: TqdmWarning: IProgress not found. Please update jupyter and ipywidgets. See https://ipywidgets.readthedocs.io/en/stable/user_install.html\n",
      "  from .autonotebook import tqdm as notebook_tqdm\n"
     ]
    },
    {
     "name": "stdout",
     "output_type": "stream",
     "text": [
      "Folder preprocessing completed.\n",
      "Categories identified: []\n"
     ]
    }
   ],
   "source": [
    "from pia_bench.bench import PiaBenchMark\n",
    "from dotenv import load_dotenv\n",
    "import os\n",
    "load_dotenv()\n",
    "\n",
    "access_token = os.getenv(\"ACCESS_TOKEN\")\n",
    "model_name = \"T2V_CLIP4CLIP_MSRVTT\"\n",
    "# model_name = \"T2V_CLIP4CLIP_WEBVID150K\"\n",
    "\n",
    "benchmark_path = \"assets/PIA\"\n",
    "cfg_target_path= \"topk.json\"\n",
    "\n",
    "\n",
    "pia_benchmark = PiaBenchMark(benchmark_path ,model_name=model_name, cfg_target_path= cfg_target_path , token=access_token )\n",
    "pia_benchmark.preprocess_structure()\n",
    "\n",
    "print(\"Categories identified:\", pia_benchmark.categories)"
   ]
  },
  {
   "cell_type": "code",
   "execution_count": null,
   "metadata": {},
   "outputs": [],
   "source": [
    "pia_benchmark.extract_visual_vector()"
   ]
  },
  {
   "cell_type": "code",
   "execution_count": 2,
   "metadata": {},
   "outputs": [
    {
     "name": "stderr",
     "output_type": "stream",
     "text": [
      "Asking to truncate to max_length but no maximum length is provided and the model has no predefined maximum length. Default to no truncation.\n",
      "Processing videos: 100%|██████████| 94/94 [01:45<00:00,  1.12s/it]\n"
     ]
    }
   ],
   "source": [
    "from pia_bench.event_alarm import EventDetector\n",
    "detector = EventDetector(config_path=cfg_target_path, model_name=model_name , token=pia_benchmark.token)\n",
    "detector.process_and_save_predictions(pia_benchmark.vector_video_path, \n",
    "                                      pia_benchmark.dataset_path, \n",
    "                                      pia_benchmark.alram_path)"
   ]
  },
  {
   "cell_type": "code",
   "execution_count": 2,
   "metadata": {},
   "outputs": [
    {
     "name": "stdout",
     "output_type": "stream",
     "text": [
      "\n",
      "Category-wise Average Metrics:\n",
      "\n",
      "fire:\n",
      "falldown_f1: 0.000\n",
      "falldown_accuracy: 0.745\n",
      "falldown_precision: 0.000\n",
      "falldown_recall: 0.000\n",
      "falldown_specificity: 0.745\n",
      "violence_f1: 0.000\n",
      "violence_accuracy: 0.915\n",
      "violence_precision: 0.000\n",
      "violence_recall: 0.000\n",
      "violence_specificity: 0.915\n",
      "fire_f1: 0.811\n",
      "fire_accuracy: 0.754\n",
      "fire_precision: 0.753\n",
      "fire_recall: 0.945\n",
      "fire_specificity: 0.002\n",
      "\n",
      "violence:\n",
      "falldown_f1: 0.043\n",
      "falldown_accuracy: 0.703\n",
      "falldown_precision: 0.024\n",
      "falldown_recall: 0.302\n",
      "falldown_specificity: 0.701\n",
      "violence_f1: 0.155\n",
      "violence_accuracy: 0.661\n",
      "violence_precision: 0.159\n",
      "violence_recall: 0.266\n",
      "violence_specificity: 0.779\n",
      "fire_f1: 0.000\n",
      "fire_accuracy: 0.000\n",
      "fire_precision: 0.000\n",
      "fire_recall: 0.000\n",
      "fire_specificity: 0.000\n",
      "\n",
      "falldown:\n",
      "falldown_f1: 0.092\n",
      "falldown_accuracy: 0.658\n",
      "falldown_precision: 0.053\n",
      "falldown_recall: 0.573\n",
      "falldown_specificity: 0.657\n",
      "violence_f1: 0.000\n",
      "violence_accuracy: 0.938\n",
      "violence_precision: 0.000\n",
      "violence_recall: 0.000\n",
      "violence_specificity: 0.938\n",
      "fire_f1: 0.000\n",
      "fire_accuracy: 0.000\n",
      "fire_precision: 0.000\n",
      "fire_recall: 0.000\n",
      "fire_specificity: 0.000\n",
      "\n",
      "==================================================\n",
      "Overall Average Metrics Across All Categories:\n",
      "==================================================\n",
      "\n",
      "falldown:\n",
      "f1: 0.045\n",
      "accuracy: 0.702\n",
      "precision: 0.026\n",
      "recall: 0.292\n",
      "specificity: 0.701\n",
      "\n",
      "violence:\n",
      "f1: 0.052\n",
      "accuracy: 0.838\n",
      "precision: 0.053\n",
      "recall: 0.089\n",
      "specificity: 0.878\n",
      "\n",
      "fire:\n",
      "f1: 0.270\n",
      "accuracy: 0.251\n",
      "precision: 0.251\n",
      "recall: 0.315\n",
      "specificity: 0.001\n"
     ]
    },
    {
     "data": {
      "text/plain": [
       "{'fire': {'video_name': 'average',\n",
       "  'falldown_f1': 0.0,\n",
       "  'falldown_accuracy': 0.7451854056679043,\n",
       "  'falldown_precision': 0.0,\n",
       "  'falldown_recall': 0.0,\n",
       "  'falldown_specificity': 0.7451854056679043,\n",
       "  'violence_f1': 0.0,\n",
       "  'violence_accuracy': 0.9153883892338825,\n",
       "  'violence_precision': 0.0,\n",
       "  'violence_recall': 0.0,\n",
       "  'violence_specificity': 0.9153883892338825,\n",
       "  'fire_f1': 0.8108560072968086,\n",
       "  'fire_accuracy': 0.7537196673581136,\n",
       "  'fire_precision': 0.7528824760479286,\n",
       "  'fire_recall': 0.9452853770309679,\n",
       "  'fire_specificity': 0.002236783678613687},\n",
       " 'violence': {'video_name': 'average',\n",
       "  'falldown_f1': 0.04254515499643891,\n",
       "  'falldown_accuracy': 0.7030405432764496,\n",
       "  'falldown_precision': 0.02404286503590601,\n",
       "  'falldown_recall': 0.3018352023192489,\n",
       "  'falldown_specificity': 0.7013810885982189,\n",
       "  'violence_f1': 0.15494617132176058,\n",
       "  'violence_accuracy': 0.6614271652166804,\n",
       "  'violence_precision': 0.1594265230504554,\n",
       "  'violence_recall': 0.26645442494701205,\n",
       "  'violence_specificity': 0.7787347824488771,\n",
       "  'fire_f1': 0.0,\n",
       "  'fire_accuracy': 3.894080996884735e-05,\n",
       "  'fire_precision': 0.0,\n",
       "  'fire_recall': 0.0,\n",
       "  'fire_specificity': 3.894080996884735e-05},\n",
       " 'falldown': {'video_name': 'average',\n",
       "  'falldown_f1': 0.09177172288397666,\n",
       "  'falldown_accuracy': 0.6576840066085435,\n",
       "  'falldown_precision': 0.0528949064520695,\n",
       "  'falldown_recall': 0.5727678563326315,\n",
       "  'falldown_specificity': 0.6570952061856,\n",
       "  'violence_f1': 0.0,\n",
       "  'violence_accuracy': 0.9384913553395682,\n",
       "  'violence_precision': 0.0,\n",
       "  'violence_recall': 0.0,\n",
       "  'violence_specificity': 0.9384913553395682,\n",
       "  'fire_f1': 0.0,\n",
       "  'fire_accuracy': 0.0,\n",
       "  'fire_precision': 0.0,\n",
       "  'fire_recall': 0.0,\n",
       "  'fire_specificity': 0.0}}"
      ]
     },
     "execution_count": 2,
     "metadata": {},
     "output_type": "execute_result"
    }
   ],
   "source": [
    "from pia_bench.metric import MetricsEvaluator\n",
    "metric = MetricsEvaluator(pred_dir=pia_benchmark.alram_path, \n",
    "                          label_dir=pia_benchmark.dataset_path, \n",
    "                          save_dir=pia_benchmark.metric_path)\n",
    "metric.evaluate()"
   ]
  }
 ],
 "metadata": {
  "kernelspec": {
   "display_name": "devmacs",
   "language": "python",
   "name": "python3"
  },
  "language_info": {
   "codemirror_mode": {
    "name": "ipython",
    "version": 3
   },
   "file_extension": ".py",
   "mimetype": "text/x-python",
   "name": "python",
   "nbconvert_exporter": "python",
   "pygments_lexer": "ipython3",
   "version": "3.11.11"
  }
 },
 "nbformat": 4,
 "nbformat_minor": 2
}
