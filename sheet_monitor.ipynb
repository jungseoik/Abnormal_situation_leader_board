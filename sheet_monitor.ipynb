{
 "cells": [
  {
   "cell_type": "code",
   "execution_count": 2,
   "metadata": {},
   "outputs": [
    {
     "name": "stdout",
     "output_type": "stream",
     "text": [
      "Created files in assets/PIA/models/T2V_CLIP4CLIP_MSRVTT/vector/video\n",
      "94\n"
     ]
    }
   ],
   "source": [
    "from pathlib import Path\n",
    "import os\n",
    "import numpy as np\n",
    "\n",
    "# Mock 경로 설정\n",
    "mock_path = Path(\"assets/PIA/models/T2V_CLIP4CLIP_MSRVTT/vector/video\")\n",
    "vector_files = [f.stem for f in mock_path .rglob(\"*.npy\")]\n",
    "print(f\"Created files in {mock_path}\")\n",
    "print(len(vector_files))"
   ]
  }
 ],
 "metadata": {
  "kernelspec": {
   "display_name": "vlm",
   "language": "python",
   "name": "python3"
  },
  "language_info": {
   "codemirror_mode": {
    "name": "ipython",
    "version": 3
   },
   "file_extension": ".py",
   "mimetype": "text/x-python",
   "name": "python",
   "nbconvert_exporter": "python",
   "pygments_lexer": "ipython3",
   "version": "3.11.11"
  }
 },
 "nbformat": 4,
 "nbformat_minor": 2
}
