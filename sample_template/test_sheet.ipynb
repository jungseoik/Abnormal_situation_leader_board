{
 "cells": [
  {
   "cell_type": "code",
   "execution_count": 1,
   "metadata": {},
   "outputs": [
    {
     "name": "stdout",
     "output_type": "stream",
     "text": [
      "Initial values: ['T2V_CLIP4CLIP_MSRVTT', 'T2V_CLIP4CLIP_MSRVTT']\n"
     ]
    }
   ],
   "source": [
    "from sheet_manager.sheet_crud.sheet_crud import  SheetManager\n",
    "sheet_manager = SheetManager()\n",
    "# sheet_manager.push(\"test-model-1\")\n",
    "# sheet_manager.push(\"test-model-2\")\n",
    "# sheet_manager.push(\"test-model-3\")\n",
    "\n",
    "print(\"Initial values:\", sheet_manager.get_all_values())\n"
   ]
  },
  {
   "cell_type": "code",
   "execution_count": 6,
   "metadata": {},
   "outputs": [
    {
     "name": "stdout",
     "output_type": "stream",
     "text": [
      "Successfully popped value: test-model-1\n",
      "Popped value: test-model-1\n",
      "After pop: ['test-model-2', 'test-model-3', 'test-model-3']\n",
      "Successfully deleted value 'test-model-2' from rows: [1]\n",
      "Deleted from rows: [1]\n",
      "After delete: ['test-model-3', 'test-model-3']\n"
     ]
    }
   ],
   "source": [
    "# Pop the most recent value\n",
    "popped = sheet_manager.pop()\n",
    "print(f\"Popped value: {popped}\")\n",
    "print(\"After pop:\", sheet_manager.get_all_values())\n",
    "\n",
    "# Delete a specific value\n",
    "deleted_rows = sheet_manager.delete(\"test-model-2\")\n",
    "print(f\"Deleted from rows: {deleted_rows}\")\n",
    "print(\"After delete:\", sheet_manager.get_all_values())"
   ]
  },
  {
   "cell_type": "code",
   "execution_count": 4,
   "metadata": {},
   "outputs": [
    {
     "name": "stdout",
     "output_type": "stream",
     "text": [
      "Available worksheets: ['model', 'prompt', 'flag']\n",
      "Available columns: ['Model', 'Model name', 'Model link', 'Datasets Used', 'PIA_absit_F_V1', 'PIA_absit_F_V1 * 100', 'TASK']\n",
      "Successfully switched to column: Model\n",
      "Successfully pushed value: test-model-1 to row 18\n",
      "Values: ['<a target=\"_blank\" href=\"https://huggingface.co/PIA-SPACE-LAB/T2V_CLIP4Clip_KTT_20241014\" style=\"color: var(--link-text-color); text-decoration: underline;text-decoration-style: dotted;\">PIA-SPACE-LAB/T2V_CLIP4Clip_KTT_20241014</a>', '<a target=\"_blank\" href=\"https://huggingface.co/PIA-SPACE-LAB/T2V_CLIP4Clip_KTT_CW_20241105\" style=\"color: var(--link-text-color); text-decoration: underline;text-decoration-style: dotted;\">PIA-SPACE-LAB/T2V_CLIP4Clip_KTT_CW_20241105</a>', '<a target=\"_blank\" href=\"https://huggingface.co/PIA-SPACE-LAB/T2V_CLIP4Clip_KTT_CW-Sampling991_20241105\" style=\"color: var(--link-text-color); text-decoration: underline;text-decoration-style: dotted;\">PIA-SPACE-LAB/T2V_CLIP4Clip_KTT_CW-Sampling991_20241105</a>', '<a target=\"_blank\" href=\"https://huggingface.co/PIA-SPACE-LAB/T2V_CLIP4Clip_KTT-UCFCrime_CW_20241120\" style=\"color: var(--link-text-color); text-decoration: underline;text-decoration-style: dotted;\">PIA-SPACE-LAB/T2V_CLIP4Clip_KTT-UCFCrime_CW_20241120</a>', '<a target=\"_blank\" href=\"https://huggingface.co/PIA-SPACE-LAB/T2V_CLIP4Clip_KTT-UCFCrime_CW-pMSRVTT_20241120\" style=\"color: var(--link-text-color); text-decoration: underline;text-decoration-style: dotted;\">PIA-SPACE-LAB/T2V_CLIP4Clip_KTT-UCFCrime_CW-pMSRVTT_20241120</a>', '<a target=\"_blank\" href=\"https://huggingface.co/PIA-SPACE-LAB/T2V_CLIP4Clip_KTT-UCFCrime_20241120\" style=\"color: var(--link-text-color); text-decoration: underline;text-decoration-style: dotted;\">PIA-SPACE-LAB/T2V_CLIP4Clip_KTT-UCFCrime_20241120</a>', '<a target=\"_blank\" href=\"https://huggingface.co/PIA-SPACE-LAB/T2V_CLIP4Clip_MSRVTT_GeneralMACS_20241122\" style=\"color: var(--link-text-color); text-decoration: underline;text-decoration-style: dotted;\">PIA-SPACE-LAB/T2V_CLIP4Clip_MSRVTT_GeneralMACS_20241122</a>', '<a target=\"_blank\" href=\"https://huggingface.co/PIA-SPACE-LAB/T2V_CLIP4Clip_KTT_CW-SynthethicCaption_20241128\" style=\"color: var(--link-text-color); text-decoration: underline;text-decoration-style: dotted;\">PIA-SPACE-LAB/T2V_CLIP4Clip_KTT_CW-SynthethicCaption_20241128</a>', '<a target=\"_blank\" href=\"https://huggingface.co/PIA-SPACE-LAB/T2V_CLIP4Clip_KTT-C2-Dongtan_CW-SynthethicCaption_20241130\" style=\"color: var(--link-text-color); text-decoration: underline;text-decoration-style: dotted;\">PIA-SPACE-LAB/T2V_CLIP4Clip_KTT-C2-Dongtan_CW-SynthethicCaption_20241130</a>', '<a target=\"_blank\" href=\"https://huggingface.co/PIA-SPACE-LAB/T2V_CLIP4Clip_KTT-C3-Dongtan-HQ-AIHub_CW-SynthethicCaption_20241201\" style=\"color: var(--link-text-color); text-decoration: underline;text-decoration-style: dotted;\">PIA-SPACE-LAB/T2V_CLIP4Clip_KTT-C3-Dongtan-HQ-AIHub_CW-SynthethicCaption_20241201</a>', '<a target=\"_blank\" href=\"https://huggingface.co/PIA-SPACE-LAB/T2V_CLIP4Clip_KTT-C4-Dongtan_CW-SynthethicCaption_20241202\" style=\"color: var(--link-text-color); text-decoration: underline;text-decoration-style: dotted;\">PIA-SPACE-LAB/T2V_CLIP4Clip_KTT-C4-Dongtan_CW-SynthethicCaption_20241202</a>', '<a target=\"_blank\" href=\"https://huggingface.co/PIA-SPACE-LAB/T2V_CLIP4Clip_KTT-C3.2-Dongtan-HQ-AIHub-Smoking_CW-SynthethicCaption_20241203\" style=\"color: var(--link-text-color); text-decoration: underline;text-decoration-style: dotted;\">PIA-SPACE-LAB/T2V_CLIP4Clip_KTT-C3.2-Dongtan-HQ-AIHub-Smoking_CW-SynthethicCaption_20241203</a>', '<a target=\"_blank\" href=\"https://huggingface.co/PIA-SPACE-LAB/T2V_CLIP4Clip_KTT-C2-Dongtan_CW-TripletLoss-SynthethicCaption_20241204\" style=\"color: var(--link-text-color); text-decoration: underline;text-decoration-style: dotted;\">PIA-SPACE-LAB/T2V_CLIP4Clip_KTT-C2-Dongtan_CW-TripletLoss-SynthethicCaption_20241204</a>', '<a target=\"_blank\" href=\"https://huggingface.co/PIA-SPACE-LAB/T2V_CLIP4Clip_KTT-C5-Dongtan_CW-SynthethicCaption_20241205\" style=\"color: var(--link-text-color); text-decoration: underline;text-decoration-style: dotted;\">PIA-SPACE-LAB/T2V_CLIP4Clip_KTT-C5-Dongtan_CW-SynthethicCaption_20241205</a>', '<a target=\"_blank\" href=\"https://huggingface.co/PIA-SPACE-LAB/T2V_CLIP4Clip_KTT-C6-Dongtan_CW-SynthethicCaption_20241206\" style=\"color: var(--link-text-color); text-decoration: underline;text-decoration-style: dotted;\">PIA-SPACE-LAB/T2V_CLIP4Clip_KTT-C6-Dongtan_CW-SynthethicCaption_20241206</a>', '<a target=\"_blank\" href=\"https://huggingface.co/PIA-SPACE-LAB/T2V_CLIP4Clip_KTT-C7-Dongtan_CW-SynthethicCaption_20241208\" style=\"color: var(--link-text-color); text-decoration: underline;text-decoration-style: dotted;\">PIA-SPACE-LAB/T2V_CLIP4Clip_KTT-C7-Dongtan_CW-SynthethicCaption_20241208</a>', 'test-model-1']\n"
     ]
    }
   ],
   "source": [
    "sheet_manager = SheetManager(\n",
    "    worksheet_name=\"model\",\n",
    "    column_name=\"Model name\"\n",
    ")\n",
    "\n",
    "# Get available worksheets and columns\n",
    "print(\"Available worksheets:\", sheet_manager.get_available_worksheets())\n",
    "print(\"Available columns:\", sheet_manager.get_available_columns())\n",
    "\n",
    "# Change worksheet or column if needed\n",
    "# sheet_manager.change_worksheet(\"flag\")\n",
    "sheet_manager.change_column(\"Model\")\n",
    "\n",
    "# Use other methods as before\n",
    "sheet_manager.push(\"test-model-1\")\n",
    "print(\"Values:\", sheet_manager.get_all_values())"
   ]
  }
 ],
 "metadata": {
  "kernelspec": {
   "display_name": "vlm",
   "language": "python",
   "name": "python3"
  },
  "language_info": {
   "codemirror_mode": {
    "name": "ipython",
    "version": 3
   },
   "file_extension": ".py",
   "mimetype": "text/x-python",
   "name": "python",
   "nbconvert_exporter": "python",
   "pygments_lexer": "ipython3",
   "version": "3.11.11"
  }
 },
 "nbformat": 4,
 "nbformat_minor": 2
}
