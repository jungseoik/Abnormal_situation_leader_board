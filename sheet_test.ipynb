{
 "cells": [
  {
   "cell_type": "code",
   "execution_count": 3,
   "metadata": {},
   "outputs": [
    {
     "name": "stdout",
     "output_type": "stream",
     "text": [
      "Updated row 3: Set benchmark_name to 'ddd' where huggingface_id is 'dd'\n"
     ]
    }
   ],
   "source": [
    "from typing import List, Dict, Optional, Set, Tuple\n",
    "import logging\n",
    "import gspread\n",
    "from dotenv import load_dotenv\n",
    "from typing import Optional, List\n",
    "from sheet_manager.sheet_crud.sheet_crud import SheetManager\n",
    "\n",
    "# Initialize SheetManager\n",
    "sheet_manager = SheetManager()\n",
    "\n",
    "# Debugging the update_cell_by_condition function\n",
    "row_updated = sheet_manager.update_cell_by_condition(\n",
    "    condition_column=\"huggingface_id\", \n",
    "    condition_value=\"dd\", \n",
    "    target_column=\"benchmark_name\", \n",
    "    target_value=\"ddd\"\n",
    ")"
   ]
  },
  {
   "cell_type": "code",
   "execution_count": 2,
   "metadata": {},
   "outputs": [
    {
     "name": "stdout",
     "output_type": "stream",
     "text": [
      "Successfully switched to column: Model name\n",
      "Successfully switched to column: Model name\n",
      "Successfully switched to column: COCO\n",
      "벤치마크 측정이 필요합니다\n"
     ]
    }
   ],
   "source": [
    "from sheet_manager.sheet_checker.sheet_check import SheetChecker\n",
    "from sheet_manager.sheet_crud.sheet_crud import SheetManager\n",
    "sheet_manager = SheetManager()\n",
    "\n",
    "checker = SheetChecker(sheet_manager)\n",
    "model_added, benchmark_exists = checker.check_model_and_benchmark(\"test-model\", \"COCO\")\n",
    "\n",
    "if model_added:\n",
    "    print(\"새로운 모델이 추가되었습니다\")\n",
    "if not benchmark_exists:\n",
    "    print(\"벤치마크 측정이 필요합니다\")"
   ]
  },
  {
   "cell_type": "code",
   "execution_count": 1,
   "metadata": {},
   "outputs": [
    {
     "name": "stderr",
     "output_type": "stream",
     "text": [
      "INFO:pia_bench.checker.bench_checker:Found benchmark directory: test_benchmark\n",
      "INFO:pia_bench.checker.bench_checker:Found 1 videos in test_benchmark dataset\n",
      "INFO:pia_bench.checker.bench_checker:Found model directory: test_model\n",
      "INFO:pia_bench.checker.bench_checker:Found benchmark CFG file: topk.json\n",
      "INFO:pia_bench.checker.bench_checker:Found model CFG directory: topk\n",
      "INFO:pia_bench.checker.bench_checker:Vector status: videos=1, vectors=1\n",
      "ERROR:pia_bench.checker.bench_checker:Overall metrics file not found for test_model\n",
      "INFO:pia_bench.checker.bench_checker:Found benchmark directory: test_benchmark\n",
      "INFO:pia_bench.checker.bench_checker:Found 1 videos in test_benchmark dataset\n",
      "INFO:pia_bench.checker.bench_checker:Found model directory: test_model\n",
      "INFO:pia_bench.checker.bench_checker:Found benchmark CFG file: topk.json\n",
      "INFO:pia_bench.checker.bench_checker:Found model CFG directory: topk\n",
      "INFO:pia_bench.checker.bench_checker:Vector status: videos=1, vectors=1\n",
      "ERROR:pia_bench.checker.bench_checker:Overall metrics file not found for test_model\n"
     ]
    },
    {
     "name": "stdout",
     "output_type": "stream",
     "text": [
      "\n",
      "테스트 1: metrics 파일이 없는 경우\n",
      "Status: {'benchmark_exists': True, 'model_exists': True, 'cfg_files_exist': True, 'vectors_match': True, 'metrics_exist': False}\n",
      "Result: no_metrics\n",
      "\n",
      "테스트 2: metrics 파일 추가 후\n",
      "Status: {'benchmark_exists': True, 'model_exists': True, 'cfg_files_exist': True, 'vectors_match': True, 'metrics_exist': False}\n",
      "Result: no_metrics\n"
     ]
    }
   ],
   "source": [
    "import tempfile\n",
    "import shutil\n",
    "import os\n",
    "import logging\n",
    "from typing import List, Dict, Optional, Tuple\n",
    "from pathlib import Path\n",
    "import json\n",
    "import numpy as np\n",
    "from pia_bench.checker.bench_checker import BenchChecker\n",
    "\n",
    "with tempfile.TemporaryDirectory() as temp_dir:\n",
    "    # 테스트 디렉토리 구조 생성\n",
    "    base_path = Path(temp_dir)\n",
    "    benchmark_name = \"test_benchmark\"\n",
    "    model_name = \"test_model\"\n",
    "    cfg_prompt = \"topk\"\n",
    "    \n",
    "    # 필요한 디렉토리 생성\n",
    "    (base_path / benchmark_name / \"dataset\" / \"category1\").mkdir(parents=True)\n",
    "    (base_path / benchmark_name / \"CFG\").mkdir(parents=True)\n",
    "    (base_path / benchmark_name / \"models\" / model_name / \"CFG\" / cfg_prompt / \"metrics\").mkdir(parents=True)\n",
    "    (base_path / benchmark_name / \"models\" / model_name / \"vector\" / \"video\").mkdir(parents=True)\n",
    "    \n",
    "    # 테스트 파일 생성\n",
    "    # 비디오 파일\n",
    "    (base_path / benchmark_name / \"dataset\" / \"category1\" / \"video1.mp4\").touch()\n",
    "    # CFG 파일\n",
    "    with open(base_path / benchmark_name / \"CFG\" / f\"{cfg_prompt}.json\", \"w\") as f:\n",
    "        json.dump({}, f)\n",
    "    # 벡터 파일\n",
    "    np.save(base_path / benchmark_name / \"models\" / model_name / \"vector\" / \"video\" / \"video1.npy\", np.array([1, 2, 3]))\n",
    "    \n",
    "    # BenchChecker 초기화 및 테스트\n",
    "    checker = BenchChecker(str(base_path))\n",
    "    \n",
    "    print(\"\\n테스트 1: metrics 파일이 없는 경우\")\n",
    "    status = checker.check_benchmark(benchmark_name, model_name, cfg_prompt)\n",
    "    result = checker.get_benchmark_status(status)\n",
    "    print(f\"Status: {status}\")\n",
    "    print(f\"Result: {result}\")\n",
    "    \n",
    "    print(\"\\n테스트 2: metrics 파일 추가 후\")\n",
    "    # metrics 파일 추가\n",
    "    metrics_path = base_path / benchmark_name / \"models\" / model_name / \"CFG\" / cfg_prompt / \"metrics\" / \"overall_metrics.json\"\n",
    "    with open(metrics_path, \"w\") as f:\n",
    "        json.dump({}, f)\n",
    "        \n",
    "    status = checker.check_benchmark(benchmark_name, model_name, cfg_prompt)\n",
    "    result = checker.get_benchmark_status(status)\n",
    "    print(f\"Status: {status}\")\n",
    "    print(f\"Result: {result}\")"
   ]
  },
  {
   "cell_type": "code",
   "execution_count": 2,
   "metadata": {},
   "outputs": [
    {
     "name": "stderr",
     "output_type": "stream",
     "text": [
      "INFO:pia_bench.checker.bench_checker:Found benchmark directory: PIA\n",
      "INFO:pia_bench.checker.bench_checker:Found 94 videos in PIA dataset\n",
      "INFO:pia_bench.checker.bench_checker:Found model directory: T2V_CLIP4CLIP_MSRVTT\n",
      "INFO:pia_bench.checker.bench_checker:Found benchmark CFG file: topk.json\n",
      "INFO:pia_bench.checker.bench_checker:Found model CFG directory: topk\n",
      "INFO:pia_bench.checker.bench_checker:Vector status: videos=94, vectors=94\n",
      "INFO:pia_bench.checker.bench_checker:Found overall metrics file for T2V_CLIP4CLIP_MSRVTT\n"
     ]
    },
    {
     "name": "stdout",
     "output_type": "stream",
     "text": [
      "Status: {'benchmark_exists': True, 'model_exists': True, 'cfg_files_exist': True, 'vectors_match': True, 'metrics_exist': True}\n",
      "Result: all_passed\n"
     ]
    }
   ],
   "source": [
    "base_path = \"assets\"\n",
    "benchmark_name = \"PIA\"\n",
    "model_name = \"T2V_CLIP4CLIP_MSRVTT\"\n",
    "cfg_prompt = \"topk\"\n",
    "checker = BenchChecker(str(base_path))\n",
    "status = checker.check_benchmark(benchmark_name, model_name, cfg_prompt)\n",
    "result = checker.get_benchmark_status(status)\n",
    "print(f\"Status: {status}\")\n",
    "print(f\"Result: {result}\")"
   ]
  },
  {
   "cell_type": "code",
   "execution_count": null,
   "metadata": {},
   "outputs": [],
   "source": []
  }
 ],
 "metadata": {
  "kernelspec": {
   "display_name": "vlm",
   "language": "python",
   "name": "python3"
  },
  "language_info": {
   "codemirror_mode": {
    "name": "ipython",
    "version": 3
   },
   "file_extension": ".py",
   "mimetype": "text/x-python",
   "name": "python",
   "nbconvert_exporter": "python",
   "pygments_lexer": "ipython3",
   "version": "3.11.11"
  }
 },
 "nbformat": 4,
 "nbformat_minor": 2
}
