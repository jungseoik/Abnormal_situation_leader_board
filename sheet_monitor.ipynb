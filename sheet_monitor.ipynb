{
 "cells": [
  {
   "cell_type": "code",
   "execution_count": 3,
   "metadata": {},
   "outputs": [
    {
     "name": "stdout",
     "output_type": "stream",
     "text": [
      "Updated row 3: Set benchmark_name to 'ddd' where huggingface_id is 'dd'\n"
     ]
    }
   ],
   "source": [
    "from typing import List, Dict, Optional, Set, Tuple\n",
    "import logging\n",
    "import gspread\n",
    "from dotenv import load_dotenv\n",
    "from typing import Optional, List\n",
    "from sheet_manager.sheet_crud.sheet_crud import SheetManager\n",
    "\n",
    "# Initialize SheetManager\n",
    "sheet_manager = SheetManager()\n",
    "\n",
    "# Debugging the update_cell_by_condition function\n",
    "row_updated = sheet_manager.update_cell_by_condition(\n",
    "    condition_column=\"huggingface_id\", \n",
    "    condition_value=\"dd\", \n",
    "    target_column=\"benchmark_name\", \n",
    "    target_value=\"ddd\"\n",
    ")"
   ]
  }
 ],
 "metadata": {
  "kernelspec": {
   "display_name": "vlm",
   "language": "python",
   "name": "python3"
  },
  "language_info": {
   "codemirror_mode": {
    "name": "ipython",
    "version": 3
   },
   "file_extension": ".py",
   "mimetype": "text/x-python",
   "name": "python",
   "nbconvert_exporter": "python",
   "pygments_lexer": "ipython3",
   "version": "3.11.11"
  }
 },
 "nbformat": 4,
 "nbformat_minor": 2
}
