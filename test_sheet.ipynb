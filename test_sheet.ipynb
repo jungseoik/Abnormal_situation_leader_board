{
 "cells": [
  {
   "cell_type": "code",
   "execution_count": 9,
   "metadata": {},
   "outputs": [
    {
     "name": "stdout",
     "output_type": "stream",
     "text": [
      "Successfully pushed value: test-model-1 to row 4\n"
     ]
    },
    {
     "data": {
      "text/plain": [
       "4"
      ]
     },
     "execution_count": 9,
     "metadata": {},
     "output_type": "execute_result"
    }
   ],
   "source": [
    "from sheet_manager.sheet_crud.sheet_crud import  SheetManager\n",
    "sheet_manager = SheetManager()\n",
    "sheet_manager.push(\"test-model-1\")"
   ]
  },
  {
   "cell_type": "code",
   "execution_count": 6,
   "metadata": {},
   "outputs": [
    {
     "name": "stdout",
     "output_type": "stream",
     "text": [
      "Successfully popped value: test-model-1\n",
      "Popped value: test-model-1\n",
      "After pop: ['test-model-2', 'test-model-3', 'test-model-3']\n",
      "Successfully deleted value 'test-model-2' from rows: [1]\n",
      "Deleted from rows: [1]\n",
      "After delete: ['test-model-3', 'test-model-3']\n"
     ]
    }
   ],
   "source": [
    "from sheet_manager.sheet_crud.sheet_crud import sheet_push , SheetManager\n",
    "\n",
    "sheet_manager = SheetManager()\n",
    "\n",
    "# Push some test values\n",
    "# sheet_manager.push(\"test-model-1\")\n",
    "# sheet_manager.push(\"test-model-2\")\n",
    "# sheet_manager.push(\"test-model-3\")\n",
    "\n",
    "# print(\"Initial values:\", sheet_manager.get_all_values())\n",
    "\n",
    "# Pop the most recent value\n",
    "popped = sheet_manager.pop()\n",
    "print(f\"Popped value: {popped}\")\n",
    "print(\"After pop:\", sheet_manager.get_all_values())\n",
    "\n",
    "# Delete a specific value\n",
    "deleted_rows = sheet_manager.delete(\"test-model-2\")\n",
    "print(f\"Deleted from rows: {deleted_rows}\")\n",
    "print(\"After delete:\", sheet_manager.get_all_values())"
   ]
  }
 ],
 "metadata": {
  "kernelspec": {
   "display_name": "vlm",
   "language": "python",
   "name": "python3"
  },
  "language_info": {
   "codemirror_mode": {
    "name": "ipython",
    "version": 3
   },
   "file_extension": ".py",
   "mimetype": "text/x-python",
   "name": "python",
   "nbconvert_exporter": "python",
   "pygments_lexer": "ipython3",
   "version": "3.11.11"
  }
 },
 "nbformat": 4,
 "nbformat_minor": 2
}
