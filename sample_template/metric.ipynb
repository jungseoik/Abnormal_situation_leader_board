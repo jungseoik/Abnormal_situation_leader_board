{
 "cells": [
  {
   "cell_type": "code",
   "execution_count": 5,
   "metadata": {},
   "outputs": [
    {
     "name": "stderr",
     "output_type": "stream",
     "text": [
      "[08:39:11] [INFO] [bench:151] [preprocess_structure] Starting directory structure preprocessing...\n",
      "[08:39:11] [INFO] [bench:181] [preprocess_structure] Folder preprocessing completed.\n",
      "[08:39:11] [INFO] [bench:120] [preprocess_label_to_csv] All JSON files have already been processed to CSV. No further processing needed.\n"
     ]
    },
    {
     "name": "stdout",
     "output_type": "stream",
     "text": [
      "Categories identified: ['violence', 'fire', 'falldown']\n"
     ]
    }
   ],
   "source": [
    "from pia_bench.bench_set import PiaBenchMarkSet\n",
    "from dotenv import load_dotenv\n",
    "import os\n",
    "load_dotenv()\n",
    "\n",
    "access_token = os.getenv(\"ACCESS_TOKEN\")\n",
    "model_name = \"BLIP\"\n",
    "model_name = \"T2V_CLIP4Clip_UCF-Crime-UCA_HolmesVADCaptionAugmentation_20240927\"\n",
    "benchmark_path = \"/home/piawsa6000/nas192/videos/huggingface_benchmarks_dataset/Leaderboard_bench/PIA\"\n",
    "cfg_target_path= \"topk.json\"\n",
    "\n",
    "pia_benchmark = PiaBenchMarkSet(benchmark_path ,model_name=model_name, cfg_target_path= cfg_target_path , token=access_token )\n",
    "pia_benchmark.preprocess_structure()\n",
    "pia_benchmark.preprocess_label_to_csv()  \n",
    "print(\"Categories identified:\", pia_benchmark.categories)"
   ]
  },
  {
   "cell_type": "code",
   "execution_count": null,
   "metadata": {},
   "outputs": [],
   "source": [
    "pia_benchmark.extract_visual_vector()"
   ]
  },
  {
   "cell_type": "code",
   "execution_count": 2,
   "metadata": {},
   "outputs": [
    {
     "name": "stderr",
     "output_type": "stream",
     "text": [
      "/home/piawsa6000/work/seoik/Abnormal_situation_leader_board/DevMACS-AI-solution-devmacs/Package-Common-AI-pia_ai_package/packages/pia/ai/tasks/T2VRet/models/clip4clip/main.py:63: FutureWarning: You are using `torch.load` with `weights_only=False` (the current default value), which uses the default pickle module implicitly. It is possible to construct malicious pickle data which will execute arbitrary code during unpickling (See https://github.com/pytorch/pytorch/blob/main/SECURITY.md#untrusted-models for more details). In a future release, the default value for `weights_only` will be flipped to `True`. This limits the functions that could be executed during unpickling. Arbitrary objects will no longer be allowed to be loaded via this mode unless they are explicitly allowlisted by the user via `torch.serialization.add_safe_globals`. We recommend you start setting `weights_only=True` for any use case where you don't have full control of the loaded file. Please open an issue on GitHub for any issues related to this experimental feature.\n",
      "  state_dict = torch.load(self.config.model_path, map_location=self.config.device)\n",
      "Processing videos: 100%|██████████| 94/94 [01:42<00:00,  1.09s/it]\n"
     ]
    }
   ],
   "source": [
    "from pia_bench.event_alarm import EventDetector\n",
    "detector = EventDetector(config_path=cfg_target_path, model_name=model_name , token=pia_benchmark.token)\n",
    "detector.process_and_save_predictions(pia_benchmark.vector_video_path, \n",
    "                                      pia_benchmark.dataset_path, \n",
    "                                      pia_benchmark.alram_path)"
   ]
  },
  {
   "cell_type": "code",
   "execution_count": 6,
   "metadata": {},
   "outputs": [
    {
     "name": "stdout",
     "output_type": "stream",
     "text": [
      "\n",
      "Category-wise Average Metrics:\n",
      "\n",
      "violence:\n",
      "falldown_f1: 0.039\n",
      "falldown_accuracy: 0.170\n",
      "falldown_precision: 0.021\n",
      "falldown_recall: 0.567\n",
      "falldown_specificity: 0.150\n",
      "falldown_tp: 178.033\n",
      "falldown_tn: 595.767\n",
      "falldown_fp: 6508.867\n",
      "falldown_fn: 0.000\n",
      "violence_f1: 0.160\n",
      "violence_accuracy: 0.679\n",
      "violence_precision: 0.174\n",
      "violence_recall: 0.242\n",
      "violence_specificity: 0.807\n",
      "violence_tp: 290.833\n",
      "violence_tn: 4814.300\n",
      "violence_fp: 567.867\n",
      "violence_fn: 1609.667\n",
      "fire_f1: 0.000\n",
      "fire_accuracy: 0.017\n",
      "fire_precision: 0.000\n",
      "fire_recall: 0.000\n",
      "fire_specificity: 0.017\n",
      "fire_tp: 0.000\n",
      "fire_tn: 87.967\n",
      "fire_fp: 7194.700\n",
      "fire_fn: 0.000\n",
      "category: violence\n",
      "\n",
      "fire:\n",
      "falldown_f1: 0.000\n",
      "falldown_accuracy: 0.101\n",
      "falldown_precision: 0.000\n",
      "falldown_recall: 0.000\n",
      "falldown_specificity: 0.101\n",
      "falldown_tp: 0.000\n",
      "falldown_tn: 300.842\n",
      "falldown_fp: 2277.368\n",
      "falldown_fn: 0.000\n",
      "violence_f1: 0.000\n",
      "violence_accuracy: 0.871\n",
      "violence_precision: 0.000\n",
      "violence_recall: 0.000\n",
      "violence_specificity: 0.871\n",
      "violence_tp: 0.000\n",
      "violence_tn: 2116.079\n",
      "violence_fp: 462.132\n",
      "violence_fn: 0.000\n",
      "fire_f1: 0.811\n",
      "fire_accuracy: 0.753\n",
      "fire_precision: 0.753\n",
      "fire_recall: 0.947\n",
      "fire_specificity: 0.000\n",
      "fire_tp: 954.816\n",
      "fire_tn: 0.000\n",
      "fire_fp: 1623.395\n",
      "fire_fn: 0.000\n",
      "category: fire\n",
      "\n",
      "falldown:\n",
      "falldown_f1: 0.050\n",
      "falldown_accuracy: 0.030\n",
      "falldown_precision: 0.026\n",
      "falldown_recall: 1.000\n",
      "falldown_specificity: 0.004\n",
      "falldown_tp: 229.538\n",
      "falldown_tn: 38.654\n",
      "falldown_fp: 8756.462\n",
      "falldown_fn: 0.000\n",
      "violence_f1: 0.000\n",
      "violence_accuracy: 0.924\n",
      "violence_precision: 0.000\n",
      "violence_recall: 0.000\n",
      "violence_specificity: 0.924\n",
      "violence_tp: 0.000\n",
      "violence_tn: 8335.231\n",
      "violence_fp: 689.423\n",
      "violence_fn: 0.000\n",
      "fire_f1: 0.000\n",
      "fire_accuracy: 0.000\n",
      "fire_precision: 0.000\n",
      "fire_recall: 0.000\n",
      "fire_specificity: 0.000\n",
      "fire_tp: 0.000\n",
      "fire_tn: 0.000\n",
      "fire_fp: 9024.654\n",
      "fire_fn: 0.000\n",
      "category: falldown\n",
      "\n",
      "==================================================\n",
      "Overall Average Metrics Across All Categories:\n",
      "==================================================\n",
      "\n",
      "falldown:\n",
      "f1: 0.030\n",
      "accuracy: 0.100\n",
      "precision: 0.015\n",
      "recall: 0.522\n",
      "specificity: 0.085\n",
      "\n",
      "violence:\n",
      "f1: 0.053\n",
      "accuracy: 0.825\n",
      "precision: 0.058\n",
      "recall: 0.081\n",
      "specificity: 0.867\n",
      "\n",
      "fire:\n",
      "f1: 0.270\n",
      "accuracy: 0.257\n",
      "precision: 0.251\n",
      "recall: 0.316\n",
      "specificity: 0.006\n",
      "Column 'Model name' not found. Using first available column: 'Model name'\n",
      "Updated row 24: Set PIA to '{\"micro_avg\": {\"tp\": 56317, \"tn\": 474505, \"fp\": 1074167, \"fn\": 48290, \"accuracy\": 0.3210722449145002, \"precision\": 0.04981671567222535, \"recall\": 0.5383674132706224, \"f1\": 0.09119489980900193}, \"falldown\": {\"tp\": 11309, \"tn\": 30310, \"fp\": 509474, \"fn\": 0, \"accuracy\": 0.07552082860787562, \"precision\": 0.021715378574185408, \"recall\": 1.0, \"specificity\": 0.05615209046581596, \"f1\": 0.04250768664065613, \"balanced_accuracy\": 0.528076045232908, \"g_mean\": 0.23696432319194372, \"mcc\": 0.03491939149236568, \"npv\": 1.0, \"far\": 0.9438479095341841}, \"violence\": {\"tp\": 8725, \"tn\": 441556, \"fp\": 52522, \"fn\": 48290, \"accuracy\": 0.8170689883558674, \"precision\": 0.1424559570264666, \"recall\": 0.15302990441111988, \"specificity\": 0.8936969466359562, \"f1\": 0.1475537366186941, \"balanced_accuracy\": 0.5233634255235381, \"g_mean\": 0.36981395094859537, \"mcc\": 0.04527793833121312, \"npv\": 0.9014179966765065, \"far\": 0.10630305336404378}, \"fire\": {\"tp\": 36283, \"tn\": 2639, \"fp\": 512171, \"fn\": 0, \"accuracy\": 0.07062691777975769, \"precision\": 0.0661550467313576, \"recall\": 1.0, \"specificity\": 0.0051261630504457955, \"f1\": 0.1241002365165878, \"balanced_accuracy\": 0.5025630815252229, \"g_mean\": 0.07159722795224543, \"mcc\": 0.01841525335570489, \"npv\": 1.0, \"far\": 0.9948738369495542}}' where Model name is 'T2V_CLIP4Clip_UCF-Crime-UCA_HolmesVADCaptionAugmentation_20240927'\n",
      "Successfully updated PIA data for model: T2V_CLIP4Clip_UCF-Crime-UCA_HolmesVADCaptionAugmentation_20240927\n"
     ]
    }
   ],
   "source": [
    "from pia_bench.metric import MetricsEvaluator\n",
    "metric = MetricsEvaluator(pred_dir=pia_benchmark.alram_path, \n",
    "                          label_dir=pia_benchmark.dataset_path, \n",
    "                          save_dir=pia_benchmark.metric_path)\n",
    "result = metric.evaluate()\n",
    "\n",
    "from sheet_manager.sheet_convert.json2sheet import update_benchmark_json\n",
    "\n",
    "target_columns = \"PIA\"\n",
    "\n",
    "update_benchmark_json(model_name=model_name, benchmark_data=result, target_column=target_columns)\n"
   ]
  }
 ],
 "metadata": {
  "kernelspec": {
   "display_name": "devmacs",
   "language": "python",
   "name": "python3"
  },
  "language_info": {
   "codemirror_mode": {
    "name": "ipython",
    "version": 3
   },
   "file_extension": ".py",
   "mimetype": "text/x-python",
   "name": "python",
   "nbconvert_exporter": "python",
   "pygments_lexer": "ipython3",
   "version": "3.11.0"
  }
 },
 "nbformat": 4,
 "nbformat_minor": 2
}
